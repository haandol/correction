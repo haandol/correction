{
 "cells": [
  {
   "cell_type": "code",
   "execution_count": 2,
   "metadata": {},
   "outputs": [],
   "source": [
    "import difflib\n",
    "from functools import reduce\n",
    "import pandas as pd"
   ]
  },
  {
   "cell_type": "markdown",
   "metadata": {},
   "source": [
    "# 오타교정의 유용성\n",
    "* 캐시 히트율이 올라감 -> 서버부하 적어짐\n",
    "* 사용자 경험이 좋아짐"
   ]
  },
  {
   "cell_type": "markdown",
   "metadata": {},
   "source": [
    "<img src=\"http://www.comworld.co.kr/news/photo/201511/48900_28534_336.jpg\"/> "
   ]
  },
  {
   "cell_type": "markdown",
   "metadata": {},
   "source": [
    "# 유니코드와 인코딩\n",
    "\n",
    "## 유니코드 - 글자와 코드가 1:1로 매핑된 시스템\n",
    "    * 매핑된 표를 보통 유니코드 코드 포인트라고 부른다.\n",
    "    * 유니코드 이전에는 코드페이지라고 불렀다. (CP949)\n",
    "## 인코딩 - 코드페이지를 컴퓨터 메모리에 어떻게 표시할지 정의한 방식\n",
    "    * UTF-8 - 영어는 1바이트로 표현하고 한글은 3바이트로 표현해야지\n",
    "    * EUC-KR / CP-949 - 영어는 1바이트로 표현하고 한글은 2바이트로 표현해야지\n",
    "## 조합형 / 완성형 인코딩 방식\n",
    "    * 조합형 - 초중종성을 조합해서 한 글자를 표현하는 인코딩 방식 (거의 모든 글자 표현가능, 160만자 - 실제 유효한글은 <11700자)\n",
    "    * 완성형 - 한글자가 하나의 글자 (표현할 수 있는 글자가 적음 - EUC-KR 은 2350자 표현가능)\n",
    "## 유니코드로 한글 쓸땐 완성형 인코딩 방식이 표준\n",
    "    * 완성된 글자 및 자/모음이 각각 코드페이지에 할당되어 있다."
   ]
  },
  {
   "cell_type": "markdown",
   "metadata": {},
   "source": [
    "# 유니코드 글자에서 자모음 분리하기"
   ]
  },
  {
   "cell_type": "markdown",
   "metadata": {},
   "source": [
    "<img src=\"http://www.comworld.co.kr/news/photo/201511/48900_28535_337.jpg\"/>"
   ]
  },
  {
   "cell_type": "code",
   "execution_count": 3,
   "metadata": {},
   "outputs": [],
   "source": [
    "chut = 'ㄱㄲㄴㄷㄸㄹㅁㅂㅃㅅㅆㅇㅈㅉㅊㅋㅌㅍㅎ#'\n",
    "ga = 'ㅏㅐㅑㅒㅓㅔㅕㅖㅗㅘㅙㅚㅛㅜㅝㅞㅟㅠㅡㅢㅣ#'\n",
    "ggut = ' ㄱㄲㄳㄴㄵㄶㄷㄹㄺㄻㄼㄽㄾㄿㅀㅁㅂㅄㅅㅆㅇㅈㅊㅋㅌㅍㅎ#'\n",
    "\n",
    "BASE = 0xAC00"
   ]
  },
  {
   "cell_type": "code",
   "execution_count": 4,
   "metadata": {},
   "outputs": [
    {
     "data": {
      "text/plain": [
       "(20, 22, 29)"
      ]
     },
     "execution_count": 4,
     "metadata": {},
     "output_type": "execute_result"
    }
   ],
   "source": [
    "len(chut), len(ga), len(ggut)"
   ]
  },
  {
   "cell_type": "code",
   "execution_count": 5,
   "metadata": {},
   "outputs": [],
   "source": [
    "query = '가'"
   ]
  },
  {
   "cell_type": "code",
   "execution_count": 6,
   "metadata": {},
   "outputs": [
    {
     "data": {
      "text/plain": [
       "'까'"
      ]
     },
     "execution_count": 6,
     "metadata": {},
     "output_type": "execute_result"
    }
   ],
   "source": [
    "chr((ord(query) + 28*21))"
   ]
  },
  {
   "cell_type": "code",
   "execution_count": 7,
   "metadata": {},
   "outputs": [],
   "source": [
    "query = '핳'"
   ]
  },
  {
   "cell_type": "code",
   "execution_count": 8,
   "metadata": {},
   "outputs": [
    {
     "name": "stdout",
     "output_type": "stream",
     "text": [
      "27 갛\n",
      "0 가\n",
      "18 하\n"
     ]
    }
   ],
   "source": [
    "code = ord(query) - BASE\n",
    "\n",
    "jongsung = code % 28\n",
    "print(jongsung, chr(BASE + jongsung))\n",
    "\n",
    "jungsung = ((code-jongsung) // 28) % 21\n",
    "print(jungsung, chr(BASE + (jungsung * 28)))\n",
    "\n",
    "chosung = ((code-jongsung) // 28) // 21\n",
    "print(chosung, chr(BASE + (chosung * 28 * 21)))"
   ]
  },
  {
   "cell_type": "code",
   "execution_count": 9,
   "metadata": {},
   "outputs": [
    {
     "name": "stdout",
     "output_type": "stream",
     "text": [
      "ㅎ ㅏ ㅎ\n"
     ]
    }
   ],
   "source": [
    "print(chut[chosung], ga[jungsung], ggut[jongsung])"
   ]
  },
  {
   "cell_type": "markdown",
   "metadata": {},
   "source": [
    "# 유니코드 자모음간의 거리 계산\n",
    "* 없는 부분은 코드(#)로 대체"
   ]
  },
  {
   "cell_type": "code",
   "execution_count": 10,
   "metadata": {},
   "outputs": [
    {
     "ename": "SyntaxError",
     "evalue": "invalid syntax (3960724701.py, line 1)",
     "output_type": "error",
     "traceback": [
      "\u001b[0;36m  File \u001b[0;32m\"/var/folders/9h/_bwzdzc50zlfschn0l2y_zvc0000gn/T/ipykernel_88100/3960724701.py\"\u001b[0;36m, line \u001b[0;32m1\u001b[0m\n\u001b[0;31m    print(hex(ord('ㅜ') + ))\u001b[0m\n\u001b[0m                         ^\u001b[0m\n\u001b[0;31mSyntaxError\u001b[0m\u001b[0;31m:\u001b[0m invalid syntax\n"
     ]
    }
   ],
   "source": [
    "print(hex(ord('ㅜ') + ))"
   ]
  },
  {
   "cell_type": "code",
   "execution_count": null,
   "metadata": {},
   "outputs": [],
   "source": [
    "def segment(ch):\n",
    "    '''유니코드 글자를 입력받아 초,중,종성에 대한 인덱스를 반환한다'''\n",
    "    code = ord(ch) - BASE\n",
    "    jongsung = code % 28\n",
    "    \n",
    "    code = code - jongsung\n",
    "    jungsung = (code // 28) % 21\n",
    "    \n",
    "    code = code // 28\n",
    "    chosung = code // 21\n",
    "    \n",
    "    if chosung < 0:\n",
    "        chosung = -1\n",
    "    if jongsung < 0:\n",
    "        jongsung = -1\n",
    "    return chut[chosung], ga[jungsung], ggut[jongsung]"
   ]
  },
  {
   "cell_type": "code",
   "execution_count": null,
   "metadata": {},
   "outputs": [],
   "source": [
    "segment('갛')"
   ]
  },
  {
   "cell_type": "code",
   "execution_count": null,
   "metadata": {},
   "outputs": [],
   "source": [
    "segment('고')"
   ]
  },
  {
   "cell_type": "markdown",
   "metadata": {},
   "source": [
    "# 유니코드 자모음간의 거리 계산\n",
    "* 최장부분수열(LCS)을 계산해서 전체 길이와의 비율로 나타낸다."
   ]
  },
  {
   "cell_type": "code",
   "execution_count": null,
   "metadata": {},
   "outputs": [],
   "source": [
    "import difflib\n",
    "\n",
    "def diff(word1, word2):\n",
    "    '''두 유니코드 단어의 거리를 계산하여 차이를 반환한다'''\n",
    "    L1 = ''.join(reduce(lambda x1,x2: x1+x2, map(segment, word1)))\n",
    "    L2 = ''.join(reduce(lambda x1,x2: x1+x2, map(segment, word2)))\n",
    "    differ = difflib.SequenceMatcher(None, L1, L2)\n",
    "    return differ.ratio()"
   ]
  },
  {
   "cell_type": "code",
   "execution_count": null,
   "metadata": {},
   "outputs": [],
   "source": [
    "print(diff('이불', '이줄'), diff('이불', '입불'), diff('이불', '이놈'))"
   ]
  },
  {
   "cell_type": "markdown",
   "metadata": {},
   "source": [
    "# 최근 사용자 검색어 가져오기\n",
    "* 총 5만개의 쿼리를 대상으로 같은 세션 내에서 60초 이내에 사용자의 검색어 목록을 DB에서 가져온다.\n",
    "* 직전 검색어와 이후 검색어의 diff ratio가 0.7 이상인 검색어들을 저장한다.\n",
    "* 직전 검색어와 이후 검색어에 대한 각각의 검색결과 개수를 저장한다.\n",
    "* query_count.csv 는 저장된 결과"
   ]
  },
  {
   "cell_type": "code",
   "execution_count": 11,
   "metadata": {},
   "outputs": [],
   "source": [
    "import pandas as pd"
   ]
  },
  {
   "cell_type": "code",
   "execution_count": 12,
   "metadata": {},
   "outputs": [],
   "source": [
    "df2 = pd.read_csv('query_count.csv', index_col='user_q').drop_duplicates()"
   ]
  },
  {
   "cell_type": "code",
   "execution_count": 13,
   "metadata": {},
   "outputs": [
    {
     "data": {
      "text/html": [
       "<div>\n",
       "<style scoped>\n",
       "    .dataframe tbody tr th:only-of-type {\n",
       "        vertical-align: middle;\n",
       "    }\n",
       "\n",
       "    .dataframe tbody tr th {\n",
       "        vertical-align: top;\n",
       "    }\n",
       "\n",
       "    .dataframe thead th {\n",
       "        text-align: right;\n",
       "    }\n",
       "</style>\n",
       "<table border=\"1\" class=\"dataframe\">\n",
       "  <thead>\n",
       "    <tr style=\"text-align: right;\">\n",
       "      <th></th>\n",
       "      <th>later_q</th>\n",
       "      <th>user_q_count</th>\n",
       "      <th>later_q_count</th>\n",
       "    </tr>\n",
       "    <tr>\n",
       "      <th>user_q</th>\n",
       "      <th></th>\n",
       "      <th></th>\n",
       "      <th></th>\n",
       "    </tr>\n",
       "  </thead>\n",
       "  <tbody>\n",
       "    <tr>\n",
       "      <th>경동나비엔</th>\n",
       "      <td>경동나비엔온수매트</td>\n",
       "      <td>369</td>\n",
       "      <td>93632</td>\n",
       "    </tr>\n",
       "    <tr>\n",
       "      <th>락엔락</th>\n",
       "      <td>락앤락</td>\n",
       "      <td>1</td>\n",
       "      <td>7066</td>\n",
       "    </tr>\n",
       "    <tr>\n",
       "      <th>경동 나비엔</th>\n",
       "      <td>경동 나비엔</td>\n",
       "      <td>361</td>\n",
       "      <td>361</td>\n",
       "    </tr>\n",
       "    <tr>\n",
       "      <th>막대걸레</th>\n",
       "      <td>올터치막대걸레</td>\n",
       "      <td>4578</td>\n",
       "      <td>42378</td>\n",
       "    </tr>\n",
       "    <tr>\n",
       "      <th>웰퍼스온수매트</th>\n",
       "      <td>온수매트</td>\n",
       "      <td>93267</td>\n",
       "      <td>93264</td>\n",
       "    </tr>\n",
       "  </tbody>\n",
       "</table>\n",
       "</div>"
      ],
      "text/plain": [
       "           later_q  user_q_count  later_q_count\n",
       "user_q                                         \n",
       "경동나비엔    경동나비엔온수매트           369          93632\n",
       "락엔락            락앤락             1           7066\n",
       "경동 나비엔      경동 나비엔           361            361\n",
       "막대걸레       올터치막대걸레          4578          42378\n",
       "웰퍼스온수매트       온수매트         93267          93264"
      ]
     },
     "execution_count": 13,
     "metadata": {},
     "output_type": "execute_result"
    }
   ],
   "source": [
    "df2[:5]"
   ]
  },
  {
   "cell_type": "markdown",
   "metadata": {},
   "source": [
    "# 사용자 검색 정보를 이용하여 오타 찾아내기\n",
    "* 먼저 검색한 결과(오타키워드)가 10개 미만이면서 후에 검색한 결과(정상키워드)에 비해 개수가 현저하게 적은 검색어를 출력"
   ]
  },
  {
   "cell_type": "code",
   "execution_count": 14,
   "metadata": {},
   "outputs": [
    {
     "name": "stdout",
     "output_type": "stream",
     "text": [
      "락엔락 => 락앤락\n",
      "식품건조기 => 리큅 식품건조기,리큅식품건조기\n",
      "뷔아느레 => 비아느레\n",
      "온수매트 => 일월온수매트,경동 온수매트,온수매트1 1,웰퍼스온수매트,경동온수매트,온열매트,온수매트 경동\n",
      "펏길 => 퍼실\n",
      "숀리] => 숀리\n",
      "전기매트 => 전기카페트,전기매트특대\n",
      "이연복 탕수육 => 이연복 동파육,이연복탕수육\n",
      "온수매트 => 일월온수매트,경동 온수매트,온수매트1 1,웰퍼스온수매트,경동온수매트,온열매트,온수매트 경동\n",
      "여성패딩 => 남성패딩,여성팬티,여성숏패딩,네파여성패딩\n",
      "경동나비엔온수매트 => 경동나비엔온수매트퀸,경동나비엔,나비엔 온수매트,경동나비엔온수매트1 1,경동나비엔온스매트1 1\n",
      "초극셋 => 초극세사\n",
      "맨투맨 => 맨투맨티,학생맨투맨\n",
      "트렉슈트 => 남성트렉수트\n",
      "김티 => 김치\n",
      "엠씨엄 => 엠씨엠\n",
      "온수매트 => 일월온수매트,경동 온수매트,온수매트1 1,웰퍼스온수매트,경동온수매트,온열매트,온수매트 경동\n",
      "댕만 => 대만\n",
      "경동나비엔온수매트 => 경동나비엔온수매트퀸,경동나비엔,나비엔 온수매트,경동나비엔온수매트1 1,경동나비엔온스매트1 1\n",
      "김치냉장고 => 딤채김치냉장고,디오스김치냉장고 \n",
      "구그 => 구스\n",
      "견미리 => 견미리팩트\n",
      "크림하우스 => 크림하우스1 1,크림하우스 yt,크림하우스매트,크림하우스 매트\n",
      "리클라아너 => 리클라이너\n",
      "임모복 => 임부복\n",
      "온수매트 => 일월온수매트,경동 온수매트,온수매트1 1,웰퍼스온수매트,경동온수매트,온열매트,온수매트 경동\n",
      "이줄 => 이불\n",
      "침구류 => 침구\n",
      "블랙야크신발 => 블랙야크기즈,블랙야크키즈\n",
      "블랙야크신발 => 블랙야크기즈,블랙야크키즈\n",
      "아이오페 => 아이오페스템셀,아이오페인텐스,아이오페기초,아이오페쿠션\n",
      "비자르 암막커튼 => 바자르 암막커튼\n",
      "블랜도 => 블랜더\n",
      "스마트빔 => sk스마트빔2,sk스마트빔\n",
      "스마트빔 => sk스마트빔2,sk스마트빔\n",
      "이불세트 => 차려이불세트,이불세트k,이불패드\n",
      "크로스백 => 남자크로스백,미니크로스백\n",
      "s9041 => 필립스 s9041\n",
      "여항 => 여행\n",
      "블래박스 => 블랙박스\n",
      "경동나비엔온수매트 => 경동나비엔온수매트퀸,경동나비엔,나비엔 온수매트,경동나비엔온수매트1 1,경동나비엔온스매트1 1\n",
      "쿨튼 => 쿨트\n",
      "애어푸라이어 => 누 애어 프라이어\n",
      "청소기 => 무선청소기,삼성청소기\n",
      "칼로커트 => 이보영칼로커트\n",
      "베리테 => 베리떼\n",
      "카페트 => 온수카페트,페딩카페트\n",
      "에어프라이어 => 에어프라이,에어프라이기,필립스에어프라이어\n",
      "크림하우스 => 크림하우스1 1,크림하우스 yt,크림하우스매트,크림하우스 매트\n",
      "비몰드 브라 => 몰드 없는 브라\n",
      "경동나비엔온수매트 => 경동나비엔온수매트퀸,경동나비엔,나비엔 온수매트,경동나비엔온수매트1 1,경동나비엔온스매트1 1\n",
      "닥터지르트 => 닥터자르트\n",
      "헤어속 => 헤어뽕\n",
      "아이오페 => 아이오페스템셀,아이오페인텐스,아이오페기초,아이오페쿠션\n",
      "롯데홈쇼핑 => 롯데 홈쇼핑암보험,롯데홈쇼핑모피코트\n",
      "청소기 => 무선청소기,삼성청소기\n",
      "이연복 탕수육 => 이연복 동파육,이연복탕수육\n",
      "구스다운 => 남성 구스다운,김희애구스다운,구스다운자켓,구스다운 이불\n",
      "클렌져 => 클렌지ㅣ,클렌저\n",
      "클렌져 => 클렌지ㅣ,클렌저\n",
      "시원스쿨 => 시원스쿨 1년,시원스쿨탭\n",
      "케비어 => 캐비어\n",
      "셤푸 => 샴푸\n",
      "암워이치약 => 암웨이치약\n",
      "웨킹화 => 워킹화\n",
      "세재 => 세제\n",
      "리앤케이 => 리엔케이\n",
      "닉스팯ㄱㅇ => 닉스패딩\n",
      "삼온 => 삼원\n",
      "범퍼폼 => 범퍼\n",
      "아너스물걸레청소기 => 아너스듀얼물걸레청소기,물걸레청소기\n",
      "세탁기 => 세탁기트롬,삼성세탁기\n",
      "칭대 => 침대\n",
      "듀유 => 두유\n",
      "아트비 => 아트비매트\n",
      "무늬베이직 => 무늬울베이직,무니베이직\n",
      "본즉 => 본죽\n",
      "비비보 => 비비고\n",
      "나비엔 온수매트 => 나비엔 온수,나비엔메이트\n",
      "자이늘 => 자이글\n",
      "모간 케이프코트 => 케이프코트\n",
      "마몽드핸드크림 => 마몽드로즈모이처핸드크림,핸드크림\n",
      "마몽드핸드크림 => 마몽드로즈모이처핸드크림,핸드크림\n",
      "옥크 => 오크\n",
      "캐리아 => 캐리어\n",
      "네차 => 네파\n",
      "맨투맨 => 맨투맨티,학생맨투맨\n",
      "롯데홈쇼핑 => 롯데 홈쇼핑암보험,롯데홈쇼핑모피코트\n",
      "크리스마슽리 => 크리스마스트리\n",
      "까사보니따 => 까사보니타\n",
      "크림하우스 => 크림하우스1 1,크림하우스 yt,크림하우스매트,크림하우스 매트\n",
      "카페트 => 온수카페트,페딩카페트\n",
      "댄비 => 덴비\n",
      "스탐큐 => 스팀큐\n",
      "매직캥 => 매직캔\n",
      "쿠구 => 쿠쿠\n",
      "맥스클리닉 => 맥스클렌저,맥스클렌져\n",
      "맥스클리닉 => 맥스클렌저,맥스클렌져\n",
      "노루풍지판 => 풍지판\n",
      "고현정 => 고현정y\n",
      "차엔박 => 차앤박\n",
      "김자애트 => 김장매트\n",
      "아이오페 => 아이오페스템셀,아이오페인텐스,아이오페기초,아이오페쿠션\n",
      "에어프라이어 => 에어프라이,에어프라이기,필립스에어프라이어\n",
      "에어프라이기 => 에어프라이어\n",
      "오터비스 => 오토비스\n",
      "구스다운 => 남성 구스다운,김희애구스다운,구스다운자켓,구스다운 이불\n",
      "극세신 => 극세사\n",
      "식품건조기 => 리큅 식품건조기,리큅식품건조기\n",
      "나비엔 온수매트 => 나비엔 온수,나비엔메이트\n",
      "아너스물걸레청소기 => 아너스듀얼물걸레청소기,물걸레청소기\n",
      "김치냉장고 => 딤채김치냉장고,디오스김치냉장고 \n",
      "런닝횐 => 런닝화\n",
      "아디다스 => 아디다스 패딩,아디다스드로즈\n",
      "쫑알이 자연관찰 => 연두비 자연관찰\n",
      "이불세트 => 차려이불세트,이불세트k,이불패드\n",
      "가공식품 => 건강식품\n",
      "박화선 => 박하선\n",
      "핫케이크 => 핫케이크팬\n",
      "닥스킺 => 닥스키즈\n",
      "냅비 => 냄비\n",
      "진드게 구스 => 진드기 구스\n",
      "온수매트 => 일월온수매트,경동 온수매트,온수매트1 1,웰퍼스온수매트,경동온수매트,온열매트,온수매트 경동\n",
      "라티시마 => 라티시마터치\n",
      "닫터브라움 => 닥터브라운\n",
      "듀오락 => 듀오락얌얌\n",
      "모지꼬트 => 모직코트\n",
      "갤레시 => 갤럭시\n",
      "알레르맘 => 알레르망\n",
      "big7 => big 7\n",
      "셀더바 => 셀더마\n",
      "온수매트 => 일월온수매트,경동 온수매트,온수매트1 1,웰퍼스온수매트,경동온수매트,온열매트,온수매트 경동\n",
      "아디다스 => 아디다스 패딩,아디다스드로즈\n",
      "여성패딩 => 남성패딩,여성팬티,여성숏패딩,네파여성패딩\n",
      "세탁기 => 세탁기트롬,삼성세탁기\n",
      "나비엔 온수 => 나비엔온수매트\n",
      "피지오겟 => 피지오겔크림\n",
      "드림믹 => 드림믹서\n",
      "헬스믹 ㅇ식서기 => 헬스믹믹서기\n",
      "전기매트 => 전기카페트,전기매트특대\n",
      "경동나비엔온수매트 => 경동나비엔온수매트퀸,경동나비엔,나비엔 온수매트,경동나비엔온수매트1 1,경동나비엔온스매트1 1\n",
      "애리스 앤블루 => 앨리스앤블루\n",
      "led tv => uhd tv,lg tv\n",
      "몽벨경량 => 몽벨경량다운\n",
      "mc365 => 365\n",
      "시원스쿨 => 시원스쿨 1년,시원스쿨탭\n",
      "구스다운 => 남성 구스다운,김희애구스다운,구스다운자켓,구스다운 이불\n",
      "여쟈 아디다스 트레이닝 => 여자 아디다스 트레이닝\n",
      "조르쥬레쉬 => 조르쥬 레쉬\n",
      "소팝 => 소파\n",
      "애플린드 => 애플라인드\n",
      "에어쿠선 => 에어쿠션\n",
      "서장훈 행거 => 서장훈행거\n",
      "무늬베이직 => 무늬울베이직,무니베이직\n",
      "sweetsuop => sweet\n",
      "구스다운 => 남성 구스다운,김희애구스다운,구스다운자켓,구스다운 이불\n",
      "여성패딩 => 남성패딩,여성팬티,여성숏패딩,네파여성패딩\n",
      "에어프라이어 => 에어프라이,에어프라이기,필립스에어프라이어\n",
      "정윤정쇼 비타민C앰플 => 비타민C앰플\n",
      "아이오페 => 아이오페스템셀,아이오페인텐스,아이오페기초,아이오페쿠션\n",
      "여성패딩 => 남성패딩,여성팬티,여성숏패딩,네파여성패딩\n",
      "아르니아 => 아로니아\n",
      "led tv => uhd tv,lg tv\n",
      "크로스백 => 남자크로스백,미니크로스백\n",
      "뭉티슈 => 물티슈\n",
      "맥포멋 => 맥포머스\n",
      "와이드펜트 => 와이드펜츠,와이드팬츠\n",
      "와이드펜트 => 와이드펜츠,와이드팬츠\n",
      "크림하우스 => 크림하우스1 1,크림하우스 yt,크림하우스매트,크림하우스 매트\n",
      "폭수 => 폭스\n",
      "이불세트 => 차려이불세트,이불세트k,이불패드\n",
      "포니진 => 포니 진\n",
      "무릅보호대 => 무릎보호대\n",
      "에비우 => 에비수\n",
      "온수매트 => 일월온수매트,경동 온수매트,온수매트1 1,웰퍼스온수매트,경동온수매트,온열매트,온수매트 경동\n",
      "송윤아 => 송윤아바지\n",
      "알루이늄 일륜차 => 알루미늄 일륜차\n",
      "에어메트리스 => 에어매트리스\n"
     ]
    }
   ],
   "source": [
    "for index in df2.index:\n",
    "    row = df2.loc[index]\n",
    "    row_type = type(row)\n",
    "    if pd.DataFrame == row_type:\n",
    "        if row[(row.user_q_count < 10) | \n",
    "               ((row.user_q_count / row.later_q_count > 0.3) & (row.user_q_count / row.later_q_count < 1.0))\n",
    "              ].any().user_q_count:\n",
    "            print(index, '=>', ','.join(row.later_q.values))\n",
    "    elif pd.Series == row_type:\n",
    "        if row.user_q_count < 10 and row.later_q_count > 10:\n",
    "            print(index, '=>', row.later_q)"
   ]
  },
  {
   "cell_type": "code",
   "execution_count": null,
   "metadata": {},
   "outputs": [],
   "source": []
  }
 ],
 "metadata": {
  "kernelspec": {
   "display_name": "Python 3 (ipykernel)",
   "language": "python",
   "name": "python3"
  },
  "language_info": {
   "codemirror_mode": {
    "name": "ipython",
    "version": 3
   },
   "file_extension": ".py",
   "mimetype": "text/x-python",
   "name": "python",
   "nbconvert_exporter": "python",
   "pygments_lexer": "ipython3",
   "version": "3.9.9"
  }
 },
 "nbformat": 4,
 "nbformat_minor": 1
}
